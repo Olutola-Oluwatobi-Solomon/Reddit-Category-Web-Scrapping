{
 "cells": [
  {
   "cell_type": "markdown",
   "metadata": {
    "isInteractiveWindowMessageCell": true
   },
   "source": [
    "Connected to Python 3.12.0"
   ]
  },
  {
   "cell_type": "code",
   "execution_count": 1,
   "metadata": {},
   "outputs": [],
   "source": [
    "import csv"
   ]
  },
  {
   "cell_type": "code",
   "execution_count": 2,
   "metadata": {},
   "outputs": [],
   "source": [
    "import asyncio"
   ]
  },
  {
   "cell_type": "code",
   "execution_count": 3,
   "metadata": {},
   "outputs": [
    {
     "ename": "ModuleNotFoundError",
     "evalue": "No module named 'praw'",
     "output_type": "error",
     "traceback": [
      "\u001b[1;31m---------------------------------------------------------------------------\u001b[0m",
      "\u001b[1;31mModuleNotFoundError\u001b[0m                       Traceback (most recent call last)",
      "File \u001b[1;32mc:\\Users\\SLMN\\Desktop\\Reddit Web Scrapping\\web_code.py:1\u001b[0m\n\u001b[1;32m----> 1\u001b[0m \u001b[39mimport\u001b[39;00m \u001b[39mpraw\u001b[39;00m\n",
      "\u001b[1;31mModuleNotFoundError\u001b[0m: No module named 'praw'"
     ]
    }
   ],
   "source": [
    "import praw"
   ]
  },
  {
   "cell_type": "code",
   "execution_count": 4,
   "metadata": {},
   "outputs": [],
   "source": [
    "async def scrape_subreddit(subreddit_name, csv_filename):\n",
    "    reddit = praw.Reddit(client_id='your_client_id',\n",
    "                         client_secret='your_client_secret',\n",
    "                         user_agent='your_user_agent')"
   ]
  },
  {
   "cell_type": "code",
   "execution_count": 5,
   "metadata": {},
   "outputs": [
    {
     "ename": "NameError",
     "evalue": "name 'reddit' is not defined",
     "output_type": "error",
     "traceback": [
      "\u001b[1;31m---------------------------------------------------------------------------\u001b[0m",
      "\u001b[1;31mNameError\u001b[0m                                 Traceback (most recent call last)",
      "File \u001b[1;32mc:\\Users\\SLMN\\Desktop\\Reddit Web Scrapping\\web_code.py:1\u001b[0m\n\u001b[1;32m----> 1\u001b[0m subreddit \u001b[39m=\u001b[39m reddit\u001b[39m.\u001b[39msubreddit(subreddit_name)\n\u001b[0;32m      2\u001b[0m posts_data \u001b[39m=\u001b[39m []\n",
      "\u001b[1;31mNameError\u001b[0m: name 'reddit' is not defined"
     ]
    }
   ],
   "source": [
    "subreddit = reddit.subreddit(subreddit_name)\n",
    "posts_data = []"
   ]
  },
  {
   "cell_type": "code",
   "execution_count": 6,
   "metadata": {},
   "outputs": [],
   "source": [
    "import praw"
   ]
  },
  {
   "cell_type": "code",
   "execution_count": 7,
   "metadata": {},
   "outputs": [],
   "source": [
    "import pandas as pd"
   ]
  },
  {
   "cell_type": "code",
   "execution_count": 8,
   "metadata": {},
   "outputs": [],
   "source": [
    "import numpy as np"
   ]
  },
  {
   "cell_type": "code",
   "execution_count": 9,
   "metadata": {},
   "outputs": [
    {
     "ename": "SyntaxError",
     "evalue": "invalid syntax (<ipython-input-9-d2bcadf0db47>, line 1)",
     "output_type": "error",
     "traceback": [
      "\u001b[1;36m  Cell \u001b[1;32mIn[9], line 1\u001b[1;36m\u001b[0m\n\u001b[1;33m    sync def scrape_subreddit(subreddit_name, csv_filename):\u001b[0m\n\u001b[1;37m         ^\u001b[0m\n\u001b[1;31mSyntaxError\u001b[0m\u001b[1;31m:\u001b[0m invalid syntax\n"
     ]
    }
   ],
   "source": [
    "sync def scrape_subreddit(subreddit_name, csv_filename):\n",
    "    reddit = praw.Reddit(client_id='your_client_id',\n",
    "                         client_secret='your_client_secret',\n",
    "                         user_agent='your_user_agent')"
   ]
  },
  {
   "cell_type": "code",
   "execution_count": 10,
   "metadata": {},
   "outputs": [],
   "source": [
    "async def scrape_subreddit(subreddit_name, csv_filename):\n",
    "    reddit = praw.Reddit(client_id='your_client_id',\n",
    "                         client_secret='your_client_secret',\n",
    "                         user_agent='your_user_agent')"
   ]
  },
  {
   "cell_type": "code",
   "execution_count": 11,
   "metadata": {},
   "outputs": [
    {
     "ename": "NameError",
     "evalue": "name 'reddit' is not defined",
     "output_type": "error",
     "traceback": [
      "\u001b[1;31m---------------------------------------------------------------------------\u001b[0m",
      "\u001b[1;31mNameError\u001b[0m                                 Traceback (most recent call last)",
      "File \u001b[1;32mc:\\Users\\SLMN\\Desktop\\Reddit Web Scrapping\\web_code.py:1\u001b[0m\n\u001b[1;32m----> 1\u001b[0m subreddit \u001b[39m=\u001b[39m reddit\u001b[39m.\u001b[39msubreddit(subreddit_name)\n\u001b[0;32m      2\u001b[0m posts_data \u001b[39m=\u001b[39m []\n",
      "\u001b[1;31mNameError\u001b[0m: name 'reddit' is not defined"
     ]
    }
   ],
   "source": [
    "subreddit = reddit.subreddit(subreddit_name)\n",
    "posts_data = []"
   ]
  },
  {
   "cell_type": "code",
   "execution_count": 12,
   "metadata": {},
   "outputs": [
    {
     "ename": "NameError",
     "evalue": "name 'reddit' is not defined",
     "output_type": "error",
     "traceback": [
      "\u001b[1;31m---------------------------------------------------------------------------\u001b[0m",
      "\u001b[1;31mNameError\u001b[0m                                 Traceback (most recent call last)",
      "File \u001b[1;32mc:\\Users\\SLMN\\Desktop\\Reddit Web Scrapping\\web_code.py:1\u001b[0m\n\u001b[1;32m----> 1\u001b[0m subreddit \u001b[39m=\u001b[39m reddit\u001b[39m.\u001b[39msubreddit(subreddit_name)\n\u001b[0;32m      2\u001b[0m posts_data \u001b[39m=\u001b[39m []\n",
      "\u001b[1;31mNameError\u001b[0m: name 'reddit' is not defined"
     ]
    }
   ],
   "source": [
    "subreddit = reddit.subreddit(subreddit_name)\n",
    "posts_data = []"
   ]
  },
  {
   "cell_type": "code",
   "execution_count": 13,
   "metadata": {},
   "outputs": [],
   "source": [
    "import requests"
   ]
  },
  {
   "cell_type": "code",
   "execution_count": 14,
   "metadata": {},
   "outputs": [],
   "source": [
    "import asyncio\n",
    "import csv\n",
    "import praw\n",
    "import pandas as pd\n",
    "import numpy as np\n",
    "import requests"
   ]
  },
  {
   "cell_type": "code",
   "execution_count": 15,
   "metadata": {},
   "outputs": [],
   "source": [
    "import asyncio\n",
    "import csv\n",
    "import praw\n",
    "import pandas as pd\n",
    "import numpy as np\n",
    "import requests"
   ]
  },
  {
   "cell_type": "code",
   "execution_count": 16,
   "metadata": {},
   "outputs": [
    {
     "ename": "AttributeError",
     "evalue": "module 'requests' has no attribute 'subreddit'",
     "output_type": "error",
     "traceback": [
      "\u001b[1;31m---------------------------------------------------------------------------\u001b[0m",
      "\u001b[1;31mAttributeError\u001b[0m                            Traceback (most recent call last)",
      "File \u001b[1;32mc:\\Users\\SLMN\\Desktop\\Reddit Web Scrapping\\web_code.py:1\u001b[0m\n\u001b[1;32m----> 1\u001b[0m subreddit \u001b[39m=\u001b[39m requests\u001b[39m.\u001b[39;49msubreddit(subreddit_name)\n",
      "\u001b[1;31mAttributeError\u001b[0m: module 'requests' has no attribute 'subreddit'"
     ]
    }
   ],
   "source": [
    "subreddit = requests.subreddit(subreddit_name)"
   ]
  },
  {
   "cell_type": "code",
   "execution_count": 17,
   "metadata": {},
   "outputs": [
    {
     "ename": "AttributeError",
     "evalue": "module 'requests' has no attribute 'subreddit'",
     "output_type": "error",
     "traceback": [
      "\u001b[1;31m---------------------------------------------------------------------------\u001b[0m",
      "\u001b[1;31mAttributeError\u001b[0m                            Traceback (most recent call last)",
      "File \u001b[1;32mc:\\Users\\SLMN\\Desktop\\Reddit Web Scrapping\\web_code.py:1\u001b[0m\n\u001b[1;32m----> 1\u001b[0m subreddit \u001b[39m=\u001b[39m requests\u001b[39m.\u001b[39;49msubreddit(subreddit_name)\n\u001b[0;32m      2\u001b[0m posts_data \u001b[39m=\u001b[39m []\n",
      "\u001b[1;31mAttributeError\u001b[0m: module 'requests' has no attribute 'subreddit'"
     ]
    }
   ],
   "source": [
    "subreddit = requests.subreddit(subreddit_name)\n",
    "posts_data = []"
   ]
  },
  {
   "cell_type": "code",
   "execution_count": 18,
   "metadata": {},
   "outputs": [],
   "source": [
    "async def scrape_subreddit(subreddit_name, csv_filename):\n",
    "    reddit = praw.Reddit(client_id='your_client_id',\n",
    "                         client_secret='your_client_secret',\n",
    "                         user_agent='your_user_agent')"
   ]
  },
  {
   "cell_type": "code",
   "execution_count": 19,
   "metadata": {},
   "outputs": [
    {
     "ename": "AttributeError",
     "evalue": "module 'requests' has no attribute 'subreddit'",
     "output_type": "error",
     "traceback": [
      "\u001b[1;31m---------------------------------------------------------------------------\u001b[0m",
      "\u001b[1;31mAttributeError\u001b[0m                            Traceback (most recent call last)",
      "File \u001b[1;32mc:\\Users\\SLMN\\Desktop\\Reddit Web Scrapping\\web_code.py:1\u001b[0m\n\u001b[1;32m----> 1\u001b[0m subreddit \u001b[39m=\u001b[39m requests\u001b[39m.\u001b[39;49msubreddit(subreddit_name)\n\u001b[0;32m      2\u001b[0m posts_data \u001b[39m=\u001b[39m []\n",
      "\u001b[1;31mAttributeError\u001b[0m: module 'requests' has no attribute 'subreddit'"
     ]
    }
   ],
   "source": [
    "subreddit = requests.subreddit(subreddit_name)\n",
    "posts_data = []"
   ]
  }
 ],
 "metadata": {
  "kernelspec": {
   "display_name": "Python 3",
   "language": "python",
   "name": "python3"
  },
  "language_info": {
   "name": "python",
   "version": "3.12.0"
  }
 },
 "nbformat": 4,
 "nbformat_minor": 2
}
